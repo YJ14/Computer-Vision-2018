{
 "cells": [
  {
   "cell_type": "markdown",
   "metadata": {},
   "source": [
    "# Assignment 1"
   ]
  },
  {
   "cell_type": "markdown",
   "metadata": {},
   "source": [
    "## Exercise 1.1"
   ]
  },
  {
   "cell_type": "markdown",
   "metadata": {},
   "source": [
    "rough sketch for ex 1.2:\n",
    "\n",
    "1. define the „positive“ subspace P in the RGB cube\n",
    "2. iterate over all pixels in I and check if in P or ~P\n",
    "3. write result to new image\n",
    "4. play around with size and shape of P and display binary image (**RESULT**)\n",
    "\n"
   ]
  },
  {
   "cell_type": "code",
   "execution_count": 5,
   "metadata": {},
   "outputs": [
    {
     "data": {
      "text/plain": [
       "<matplotlib.image.AxesImage at 0x1155faf28>"
      ]
     },
     "execution_count": 5,
     "metadata": {},
     "output_type": "execute_result"
    }
   ],
   "source": [
    "from skimage import io, data, color, morphology\n",
    "import numpy as np\n",
    "\n",
    "image = io.imread('images/racecar/000.jpeg')\n",
    "width, height, blub = image.shape\n",
    "io.imshow(image)\n",
    "mask = np.zeros_like(image[:,:,0])\n",
    "\n",
    "for y in range(0,height):\n",
    "    for x in range(0,width):\n",
    "        if image[x,y,2] > 200:\n",
    "            mask[x,y] = 255\n",
    "            \n",
    "mask2 = np.zeros_like(image[:,:,0])\n",
    "io.imshow(mask2)"
   ]
  },
  {
   "cell_type": "markdown",
   "metadata": {},
   "source": [
    "## Exercise 1.2"
   ]
  },
  {
   "cell_type": "markdown",
   "metadata": {},
   "source": [
    "* starting from the binary color detection image\n",
    "* erase noise with an erosion operation\n",
    "* dilate once to get original size of object\n",
    "* find connected components with one-pass algorithm\n",
    "* extract bounding box on the fly\n",
    "* draw bounding box on original image (**RESULT**)"
   ]
  },
  {
   "cell_type": "code",
   "execution_count": null,
   "metadata": {
    "collapsed": true
   },
   "outputs": [],
   "source": []
  },
  {
   "cell_type": "markdown",
   "metadata": {},
   "source": [
    "## Exercise 1.3"
   ]
  },
  {
   "cell_type": "markdown",
   "metadata": {},
   "source": [
    "* use your color detection and connected components algorithm\n",
    "* implement simplest tracking algorithm\n",
    "* draw history of all previous points on frame (**RESULT**)"
   ]
  },
  {
   "cell_type": "code",
   "execution_count": null,
   "metadata": {
    "collapsed": true
   },
   "outputs": [],
   "source": []
  }
 ],
 "metadata": {
  "kernelspec": {
   "display_name": "Python 3",
   "language": "python",
   "name": "python3"
  },
  "language_info": {
   "codemirror_mode": {
    "name": "ipython",
    "version": 3
   },
   "file_extension": ".py",
   "mimetype": "text/x-python",
   "name": "python",
   "nbconvert_exporter": "python",
   "pygments_lexer": "ipython3",
   "version": "3.6.3"
  }
 },
 "nbformat": 4,
 "nbformat_minor": 2
}
