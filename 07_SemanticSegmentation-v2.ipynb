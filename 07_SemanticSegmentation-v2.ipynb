{
 "cells": [
  {
   "cell_type": "markdown",
   "metadata": {},
   "source": [
    "# Assignment 7: Semantic Segmentation\n",
    "Heute werden wir einfache Netzwerkarchitekturen für \"Semantic Segmentation\" testen. Ziel ist es dieses Paper in den Grundzügen zu implementieren: https://people.eecs.berkeley.edu/~jonlong/long_shelhamer_fcn.pdf. Bitte lesen!\n",
    "\n",
    "## Daten\n",
    "\n",
    "Es gibt einige gute Datensätze, die ihr (bei gegebener Hardware) herunterladen und benutzen könnt. Für diejenigen, die auf CPUs rechnen gilt immer der Tip: Bilder downsamplen!\n",
    "\n",
    "Sucht Euch einen Satensatz aus: \n",
    "\n",
    "KITTI: http://www.cvlibs.net/download.php?file=data_semantics.zip (~300 MB, 200 Bilder)\n",
    "\n",
    "DUS: http://www.6d-vision.com/scene-labeling (~3 GB, 500 Bilder)\n",
    "\n",
    "MIT. http://sceneparsing.csail.mit.edu/ (~1 GB, links siehe auf Seite)\n",
    "\n",
    "## Exc. 7.1 Fully convolutional network, no downsampling\n",
    "Implementiere die in der Vorlesung besprochene Netzwerkarchitektur von aufeinanderfolgenden CONV-Schichten (stride=1, mit zero-padding), um eine Ausgabeschicht zu bekommen, die die Eingabegröße aufweist. Tip: die letzte CONV-Schicht sollte eine Tiefe haben, die zur Zahl der Klassen korrespondiert. Benutze den L2-Loss zum Labelbild (Achtung: ihr müsst dafür entweder das Labelbild oder den Ausgabetensor umformulieren).\n",
    "\n",
    "Trainiere das Netzwerk auf den von Dir gewählten Datensatz und zeige den Verlauf des Losses, und einige zufällig gewählte Beispielbilder mit ihren vorhergesagten Segmentierungen an. (**RESULT**)"
   ]
  },
  {
   "cell_type": "code",
   "execution_count": 29,
   "metadata": {},
   "outputs": [],
   "source": [
    "import numpy as np\n",
    "import matplotlib.pyplot as plt\n",
    "import matplotlib.colors as colors\n",
    "import os\n",
    "import itertools\n",
    "import tensorflow as tf\n",
    "import sys\n",
    "\n",
    "from sklearn.metrics import confusion_matrix, roc_auc_score\n",
    "from sklearn.preprocessing import binarize\n",
    "\n",
    "from keras.backend.tensorflow_backend import set_session, get_session\n",
    "from keras.preprocessing.image import ImageDataGenerator\n",
    "from keras.applications.vgg16 import VGG16, decode_predictions\n",
    "from keras.models import Sequential\n",
    "from keras.layers import Dense, Conv2DTranspose, UpSampling2D\n",
    "from keras.optimizers import SGD\n",
    "from keras.layers import Dense, Dropout, Activation, Flatten, Lambda\n",
    "from keras.backend import argmax, cast\n",
    "from keras.layers.convolutional import Conv2D\n",
    "from keras.layers.pooling import MaxPooling2D\n",
    "from keras.utils.np_utils import to_categorical\n",
    "from keras import optimizers\n",
    "\n",
    "from skimage import color, io, transform\n",
    "\n",
    "import PIL\n",
    "\n",
    "import warnings; warnings.simplefilter('ignore')\n",
    "\n",
    "%matplotlib inline\n",
    "\n",
    "config = tf.ConfigProto()\n",
    "config.gpu_options.allow_growth = True\n",
    "set_session(tf.Session(config=config))\n",
    "\n",
    "\n",
    "def loadImageBatch(path, offset, number, targetShape=None):\n",
    "    imagePaths = []\n",
    "    for file in os.listdir(path):\n",
    "        ext = os.path.splitext(file)[1]\n",
    "        if ext.lower() not in [\".jpg\", \".jpeg\", \".png\"]:\n",
    "            continue\n",
    "        imagePaths.append(os.path.join(path, file))\n",
    "    imagePaths.sort()\n",
    "\n",
    "    if offset >= len(imagePaths):\n",
    "        return []\n",
    "    if offset + number > len(imagePaths):\n",
    "        number = len(imagePaths) - offset\n",
    "\n",
    "    images = []  # io.imread_collection(imagePaths[offset:offset+number])\n",
    "    for imgPath in imagePaths[offset:(offset + number)]:\n",
    "        # print(imgPath)\n",
    "        images.append(io.imread(imgPath))\n",
    "\n",
    "    if targetShape != None:\n",
    "        for i in range(0, len(images)):\n",
    "            images[i] = rescale(images[i], targetShape)\n",
    "    return images\n",
    "\n",
    "\n",
    "def rescale(img, shape):\n",
    "    img = transform.resize(img, shape)\n",
    "    return img\n",
    "\n",
    "\n",
    "def preprocessBatch(images):\n",
    "    for i in range(0, len(images)):\n",
    "        images[i] = preprocess(images[i])\n",
    "    return images\n",
    "\n",
    "\n",
    "def preprocess(img):    \n",
    "    height, width, dim = img.shape\n",
    "    result = np.zeros((height, width, 150), np.float32)\n",
    "    for y in range(0, height):\n",
    "        for x in range(0, width):\n",
    "            dim = 0\n",
    "            if type(dim) is not int:\n",
    "                dim = int(img[y, x, 0] * 255)\n",
    "            else:\n",
    "                dim = int(img[y,x,0])\n",
    "            result[y, x, dim] = 1.0\n",
    "    return result\n",
    "\n",
    "\n",
    "def preprocess2(img):\n",
    "    height, width, dim = img.shape\n",
    "    result = np.zeros((height, width), np.float32)\n",
    "    \n",
    "    for y in range(0, height):\n",
    "        for x in range(0, width):\n",
    "            R = 0\n",
    "            G = 0\n",
    "            if type(dim) is not int:\n",
    "                R = int(img[y, x, 0] * 255)\n",
    "                G = int(img[y, x, 1] * 255)\n",
    "            else:\n",
    "                R = int(img[y,x,0])\n",
    "                G = int(img[y,x,1])\n",
    "                \n",
    "            result[y,x] =  int((R)/10)*256+(G)\n",
    "    return result\n",
    "\n",
    "\n",
    "\n",
    "\n",
    "\n",
    "def convert2rgb(prediction):\n",
    "    height, width, depth = prediction.shape\n",
    "    res = np.zeros((height, width))\n",
    "    for x in range(0, width):\n",
    "        for y in range(0, height):\n",
    "            dimension = np.argmax(prediction[y, x, :])\n",
    "            if type(dimension) is not int:\n",
    "                dimension = int(dimension * 255)\n",
    "            res[y,x] = dimension\n",
    "    return res\n",
    "\n",
    "# x, y, 150"
   ]
  },
  {
   "cell_type": "code",
   "execution_count": 21,
   "metadata": {},
   "outputs": [],
   "source": [
    "# Beispiel für den KITTI-Datensatz. Ich habe die 200 training samples in 180 train- und 20 testbilder\n",
    "# geteilt (macht 180 samples inkl. labels)\n",
    "# um uns das Leben leichter zu machen, Bilder heruntersamplen\n",
    "\n",
    "img_size = (60, 80)\n",
    "\n",
    "train_image_path = os.path.join(\"semantic_segmentation_2\", \"images\", \"training\", \"training\")\n",
    "train_label_path = os.path.join(\"semantic_segmentation_2\", \"annotations\", \"training\", \"training\")\n",
    "\n",
    "# test\n",
    "# batch_test = loadImageBatch(train_image_path, 300, 10, img_size)\n",
    "# plt.figure(0, figsize=(19,10))\n",
    "# plt.imshow(batch_test[0])\n",
    "# plt.show()\n"
   ]
  },
  {
   "cell_type": "code",
   "execution_count": 3,
   "metadata": {},
   "outputs": [
    {
     "name": "stdout",
     "output_type": "stream",
     "text": [
      "(60, 80, 3)\n",
      "_________________________________________________________________\n",
      "Layer (type)                 Output Shape              Param #   \n",
      "=================================================================\n",
      "conv2d_1 (Conv2D)            (None, 60, 80, 10)        280       \n",
      "_________________________________________________________________\n",
      "conv2d_2 (Conv2D)            (None, 60, 80, 10)        910       \n",
      "_________________________________________________________________\n",
      "dropout_1 (Dropout)          (None, 60, 80, 10)        0         \n",
      "_________________________________________________________________\n",
      "conv2d_3 (Conv2D)            (None, 60, 80, 10)        910       \n",
      "_________________________________________________________________\n",
      "conv2d_4 (Conv2D)            (None, 60, 80, 10)        910       \n",
      "_________________________________________________________________\n",
      "dropout_2 (Dropout)          (None, 60, 80, 10)        0         \n",
      "_________________________________________________________________\n",
      "conv2d_5 (Conv2D)            (None, 60, 80, 10)        910       \n",
      "_________________________________________________________________\n",
      "conv2d_6 (Conv2D)            (None, 60, 80, 10)        910       \n",
      "_________________________________________________________________\n",
      "dropout_3 (Dropout)          (None, 60, 80, 10)        0         \n",
      "_________________________________________________________________\n",
      "conv2d_7 (Conv2D)            (None, 60, 80, 10)        910       \n",
      "_________________________________________________________________\n",
      "dropout_4 (Dropout)          (None, 60, 80, 10)        0         \n",
      "_________________________________________________________________\n",
      "conv2d_8 (Conv2D)            (None, 60, 80, 150)       13650     \n",
      "=================================================================\n",
      "Total params: 19,390\n",
      "Trainable params: 19,390\n",
      "Non-trainable params: 0\n",
      "_________________________________________________________________\n"
     ]
    }
   ],
   "source": [
    "input_shape = (img_size[0], img_size[1], 3)\n",
    "print(input_shape)\n",
    "lr = 0.0005\n",
    "d = 10\n",
    "\n",
    "model = Sequential()\n",
    "model.add(Conv2D(d, (3, 3), activation=\"relu\", padding=\"same\", input_shape=input_shape))\n",
    "model.add(Conv2D(d, (3, 3), activation=\"relu\", padding=\"same\"))\n",
    "model.add(Dropout(0.1))\n",
    "model.add(Conv2D(d, (3, 3), activation=\"relu\", padding=\"same\"))\n",
    "model.add(Conv2D(d, (3, 3), activation=\"relu\", padding=\"same\"))\n",
    "model.add(Dropout(0.1))\n",
    "model.add(Conv2D(d, (3, 3), activation=\"relu\", padding=\"same\"))\n",
    "model.add(Conv2D(d, (3, 3), activation=\"relu\", padding=\"same\"))\n",
    "model.add(Dropout(0.1))\n",
    "model.add(Conv2D(d, (3, 3), activation=\"relu\", padding=\"same\"))\n",
    "model.add(Dropout(0.1))\n",
    "model.add(Conv2D(150, (3, 3), activation=\"relu\", padding=\"same\"))\n",
    "\n",
    "model.compile(loss='mean_squared_error',\n",
    "              optimizer=optimizers.Adam(lr=lr),\n",
    "              metrics=['accuracy'])\n",
    "\n",
    "model.summary()"
   ]
  },
  {
   "cell_type": "code",
   "execution_count": 22,
   "metadata": {},
   "outputs": [],
   "source": [
    "def gen(train_image_path, train_label_path, img_size):\n",
    "    offset = 0\n",
    "    \n",
    "    #train_imgs = []\n",
    "    #labels = []\n",
    "    \n",
    "    while True:\n",
    "        #for i in range(0,32):\n",
    "        train_batch = loadImageBatch(train_image_path, offset, 1, img_size)\n",
    "        label_batch = preprocessBatch(loadImageBatch(train_label_path, offset, 1, img_size))\n",
    "        offset += 1\n",
    "        if (len(train_batch) == 0):\n",
    "            raise StopIteration\n",
    "        \n",
    "        train_batch = np.array(train_batch)\n",
    "        label_batch = np.array(label_batch)\n",
    "        \n",
    "        if len(train_batch.shape) != 4:\n",
    "            print(\"Detected wrong shape!\")\n",
    "            continue\n",
    "            \n",
    "        #train_imgs.append(train_batch)\n",
    "        #labels.append(label_batch)\n",
    "        \n",
    "        yield(np.array(train_batch), np.array(label_batch))\n",
    "\n",
    "\n",
    "train2_generator = gen(train_image_path, train_label_path, img_size)\n",
    "abc = train2_generator.__next__()\n",
    "# about 20.210 images\n"
   ]
  },
  {
   "cell_type": "code",
   "execution_count": 61,
   "metadata": {},
   "outputs": [
    {
     "name": "stdout",
     "output_type": "stream",
     "text": [
      "Epoch 1/10\n",
      "50/50 [==============================] - 15s 298ms/step - loss: 0.0037 - acc: 0.7751\n",
      "Epoch 2/10\n",
      "50/50 [==============================] - 15s 301ms/step - loss: 6.7712e-04 - acc: 1.0000\n",
      "Epoch 3/10\n",
      "50/50 [==============================] - 15s 301ms/step - loss: 2.9758e-04 - acc: 1.0000\n",
      "Epoch 4/10\n",
      "50/50 [==============================] - 15s 294ms/step - loss: 1.5862e-04 - acc: 1.0000\n",
      "Epoch 5/10\n",
      "50/50 [==============================] - 14s 283ms/step - loss: 1.2125e-04 - acc: 1.0000\n",
      "Epoch 6/10\n",
      "50/50 [==============================] - 15s 298ms/step - loss: 9.6002e-05 - acc: 1.0000\n",
      "Epoch 7/10\n",
      "50/50 [==============================] - 15s 304ms/step - loss: 8.3858e-05 - acc: 1.0000\n",
      "Epoch 8/10\n",
      "50/50 [==============================] - 15s 301ms/step - loss: 7.2415e-05 - acc: 1.0000\n",
      "Epoch 9/10\n",
      "50/50 [==============================] - 15s 306ms/step - loss: 6.5380e-05 - acc: 1.0000\n",
      "Epoch 10/10\n",
      "50/50 [==============================] - 15s 298ms/step - loss: 5.9281e-05 - acc: 1.0000\n"
     ]
    }
   ],
   "source": [
    "a = model.fit_generator(train2_generator, steps_per_epoch = 50, epochs = 10)"
   ]
  },
  {
   "cell_type": "code",
   "execution_count": 23,
   "metadata": {},
   "outputs": [],
   "source": [
    "# print(a.history[\"loss\"]) \n",
    "# print(a.history[\"acc\"]) "
   ]
  },
  {
   "cell_type": "code",
   "execution_count": 24,
   "metadata": {
    "scrolled": true
   },
   "outputs": [],
   "source": [
    "#model.save('models/ss-cg-21-02.h5')\n",
    "#model.save_weights('models/ss-cg-weights-21-02.h5')\n",
    "#model.load_weights('models/ss-cg-weights-56.h5')"
   ]
  },
  {
   "cell_type": "code",
   "execution_count": 36,
   "metadata": {
    "scrolled": true
   },
   "outputs": [
    {
     "data": {
      "image/png": "[encoded data removed]",
      "text/plain": [
       "<Figure size 432x288 with 1 Axes>"
      ]
     },
     "metadata": {},
     "output_type": "display_data"
    }
   ],
   "source": [
    "test_image_path = os.path.join(\"semantic_segmentation_2\", \"images\", \"validation\", \"validation\")\n",
    "test_label_path = os.path.join(\"semantic_segmentation_2\", \"annotations\", \"validation\", \"validation\")\n",
    "\n",
    "\n",
    "label = io.imread(\"D:/Users/H3ADLESS/Workspace/PycharmProjects/cv2018/semantic_segmentation_2/annotations/training/training/ADE_train_00000006.png\")\n",
    "plt.imshow(label)\n",
    "\n",
    "\n",
    "test_generator = gen(test_image_path, test_label_path, img_size)\n"
   ]
  },
  {
   "cell_type": "code",
   "execution_count": 37,
   "metadata": {},
   "outputs": [
    {
     "name": "stdout",
     "output_type": "stream",
     "text": [
      "516.0\n"
     ]
    },
    {
     "data": {
      "text/plain": [
       "<matplotlib.image.AxesImage at 0x19700922cc0>"
      ]
     },
     "execution_count": 37,
     "metadata": {},
     "output_type": "execute_result"
    },
    {
     "data": {
      "image/png": "[encoded data removed]",
      "text/plain": [
       "<Figure size 432x288 with 1 Axes>"
      ]
     },
     "metadata": {},
     "output_type": "display_data"
    }
   ],
   "source": [
    "l2 = convert2rgb(preprocess(label))\n",
    "plt.imshow(l2)\n",
    "# 76,2\n",
    "l2 = preprocess2(label)\n",
    "m = np.amax(l2)\n",
    "print(m)\n",
    "l2 = l2 / m\n",
    "l2.astype(np.int8)\n",
    "plt.imshow(l2)\n"
   ]
  },
  {
   "cell_type": "code",
   "execution_count": 72,
   "metadata": {
    "scrolled": true
   },
   "outputs": [
    {
     "name": "stdout",
     "output_type": "stream",
     "text": [
      "(1, 60, 80, 3)\n",
      "(1, 60, 80, 150)\n"
     ]
    },
    {
     "data": {
      "image/png": "[encoded data removed]",
      "text/plain": [
       "<Figure size 1440x504 with 1 Axes>"
      ]
     },
     "metadata": {},
     "output_type": "display_data"
    },
    {
     "data": {
      "image/png": "[encoded data removed]",
      "text/plain": [
       "<Figure size 1440x504 with 1 Axes>"
      ]
     },
     "metadata": {},
     "output_type": "display_data"
    }
   ],
   "source": [
    "# print(testImg.next()[0].shape)\n",
    "# image = testImg.next()[0,:,:,:]\n",
    "\n",
    "img, label = test_generator.__next__()\n",
    "\n",
    "\n",
    "\n",
    "print(img.shape)\n",
    "print(label.shape)\n",
    "\n",
    "# print(img[0])\n",
    "\n",
    "plt.figure(0, figsize=(20,7))\n",
    "plt.imshow(img[0])\n",
    "plt.show()\n",
    "\n",
    "plt.figure(1, figsize=(20,7))\n",
    "plt.imshow(convert2rgb(label[0]))\n",
    "plt.show()\n",
    "\n",
    "# print(label[0])\n",
    "\n",
    "\n",
    "\n"
   ]
  },
  {
   "cell_type": "code",
   "execution_count": 74,
   "metadata": {
    "scrolled": true
   },
   "outputs": [
    {
     "data": {
      "image/png": "[encoded data removed]",
      "text/plain": [
       "<Figure size 1440x504 with 1 Axes>"
      ]
     },
     "metadata": {},
     "output_type": "display_data"
    },
    {
     "data": {
      "image/png": "[encoded data removed]",
      "text/plain": [
       "<Figure size 1440x504 with 1 Axes>"
      ]
     },
     "metadata": {},
     "output_type": "display_data"
    },
    {
     "data": {
      "image/png": "[encoded data removed]",
      "text/plain": [
       "<Figure size 1440x504 with 1 Axes>"
      ]
     },
     "metadata": {},
     "output_type": "display_data"
    },
    {
     "data": {
      "image/png": "[encoded data removed]",
      "text/plain": [
       "<Figure size 1440x504 with 1 Axes>"
      ]
     },
     "metadata": {},
     "output_type": "display_data"
    },
    {
     "data": {
      "image/png": "[encoded data removed]",
      "text/plain": [
       "<Figure size 1440x504 with 1 Axes>"
      ]
     },
     "metadata": {},
     "output_type": "display_data"
    },
    {
     "data": {
      "image/png": "[encoded data removed]",
      "text/plain": [
       "<Figure size 1440x504 with 1 Axes>"
      ]
     },
     "metadata": {},
     "output_type": "display_data"
    },
    {
     "data": {
      "image/png": "[encoded data removed]",
      "text/plain": [
       "<Figure size 1440x504 with 1 Axes>"
      ]
     },
     "metadata": {},
     "output_type": "display_data"
    },
    {
     "data": {
      "image/png": "[encoded data removed]",
      "text/plain": [
       "<Figure size 1440x504 with 1 Axes>"
      ]
     },
     "metadata": {},
     "output_type": "display_data"
    },
    {
     "data": {
      "image/png": "[encoded data removed]",
      "text/plain": [
       "<Figure size 1440x504 with 1 Axes>"
      ]
     },
     "metadata": {},
     "output_type": "display_data"
    },
    {
     "data": {
      "image/png": "[encoded data removed]",
      "text/plain": [
       "<Figure size 1440x504 with 1 Axes>"
      ]
     },
     "metadata": {},
     "output_type": "display_data"
    }
   ],
   "source": [
    "for i in range(0,10):\n",
    "    img, label = test_generator.__next__()\n",
    "    prediction = model.predict(img)\n",
    "    grayscale = convert2rgb(prediction[0,:,:,:])\n",
    "    plt.figure(i, figsize=(20,7))\n",
    "    plt.imshow(grayscale)\n",
    "    \n",
    "plt.show()\n",
    "\n"
   ]
  },
  {
   "cell_type": "markdown",
   "metadata": {},
   "source": [
    "# Exc. 7.2 FCN mit Bottleneck\n",
    "\n",
    "Implementiere jetzt die Variante mit schrittweisem Down- und Upsampling, wie in der Vorlesung besprochen. Nutze dafür ein bestehendes Netzwerk (z.B. VGG16, https://keras.io/applications/#vgg16), entferne die FC-Schichten am Ende, und füge dann die Upsampling-Schichten hinzu. Wie in der vorigen Vorlesung zu Transfer Learning beschrieben, kannst Du jetzt nur den zweiten Teil trainieren und die Gewichte des ersten Teils \"einfrieren\".\n",
    "\n",
    "Stelle wie oben den Verlauf des Losses dar und wähle einige Beispielbilder aus dem Testset und zeige sie mit ihrer vorhergesagten Segmentierung an. (**BONUS**)"
   ]
  },
  {
   "cell_type": "code",
   "execution_count": 14,
   "metadata": {},
   "outputs": [
    {
     "name": "stdout",
     "output_type": "stream",
     "text": [
      "_________________________________________________________________\n",
      "Layer (type)                 Output Shape              Param #   \n",
      "=================================================================\n",
      "input_2 (InputLayer)         (None, 224, 224, 3)       0         \n",
      "_________________________________________________________________\n",
      "block1_conv1 (Conv2D)        (None, 224, 224, 64)      1792      \n",
      "_________________________________________________________________\n",
      "block1_conv2 (Conv2D)        (None, 224, 224, 64)      36928     \n",
      "_________________________________________________________________\n",
      "block1_pool (MaxPooling2D)   (None, 112, 112, 64)      0         \n",
      "_________________________________________________________________\n",
      "block2_conv1 (Conv2D)        (None, 112, 112, 128)     73856     \n",
      "_________________________________________________________________\n",
      "block2_conv2 (Conv2D)        (None, 112, 112, 128)     147584    \n",
      "_________________________________________________________________\n",
      "block2_pool (MaxPooling2D)   (None, 56, 56, 128)       0         \n",
      "_________________________________________________________________\n",
      "block3_conv1 (Conv2D)        (None, 56, 56, 256)       295168    \n",
      "_________________________________________________________________\n",
      "block3_conv2 (Conv2D)        (None, 56, 56, 256)       590080    \n",
      "_________________________________________________________________\n",
      "block3_conv3 (Conv2D)        (None, 56, 56, 256)       590080    \n",
      "_________________________________________________________________\n",
      "block3_pool (MaxPooling2D)   (None, 28, 28, 256)       0         \n",
      "_________________________________________________________________\n",
      "block4_conv1 (Conv2D)        (None, 28, 28, 512)       1180160   \n",
      "_________________________________________________________________\n",
      "block4_conv2 (Conv2D)        (None, 28, 28, 512)       2359808   \n",
      "_________________________________________________________________\n",
      "block4_conv3 (Conv2D)        (None, 28, 28, 512)       2359808   \n",
      "_________________________________________________________________\n",
      "block4_pool (MaxPooling2D)   (None, 14, 14, 512)       0         \n",
      "_________________________________________________________________\n",
      "block5_conv1 (Conv2D)        (None, 14, 14, 512)       2359808   \n",
      "_________________________________________________________________\n",
      "block5_conv2 (Conv2D)        (None, 14, 14, 512)       2359808   \n",
      "_________________________________________________________________\n",
      "block5_conv3 (Conv2D)        (None, 14, 14, 512)       2359808   \n",
      "_________________________________________________________________\n",
      "block5_pool (MaxPooling2D)   (None, 7, 7, 512)         0         \n",
      "_________________________________________________________________\n",
      "flatten (Flatten)            (None, 25088)             0         \n",
      "_________________________________________________________________\n",
      "fc1 (Dense)                  (None, 4096)              102764544 \n",
      "_________________________________________________________________\n",
      "fc2 (Dense)                  (None, 4096)              16781312  \n",
      "_________________________________________________________________\n",
      "predictions (Dense)          (None, 1000)              4097000   \n",
      "=================================================================\n",
      "Total params: 138,357,544\n",
      "Trainable params: 138,357,544\n",
      "Non-trainable params: 0\n",
      "_________________________________________________________________\n",
      "_________________________________________________________________\n",
      "Layer (type)                 Output Shape              Param #   \n",
      "=================================================================\n",
      "input_2 (InputLayer)         (None, 224, 224, 3)       0         \n",
      "_________________________________________________________________\n",
      "block1_conv1 (Conv2D)        (None, 224, 224, 64)      1792      \n",
      "_________________________________________________________________\n",
      "block1_conv2 (Conv2D)        (None, 224, 224, 64)      36928     \n",
      "_________________________________________________________________\n",
      "block1_pool (MaxPooling2D)   (None, 112, 112, 64)      0         \n",
      "_________________________________________________________________\n",
      "block2_conv1 (Conv2D)        (None, 112, 112, 128)     73856     \n",
      "_________________________________________________________________\n",
      "block2_conv2 (Conv2D)        (None, 112, 112, 128)     147584    \n",
      "_________________________________________________________________\n",
      "block2_pool (MaxPooling2D)   (None, 56, 56, 128)       0         \n",
      "_________________________________________________________________\n",
      "block3_conv1 (Conv2D)        (None, 56, 56, 256)       295168    \n",
      "_________________________________________________________________\n",
      "block3_conv2 (Conv2D)        (None, 56, 56, 256)       590080    \n",
      "_________________________________________________________________\n",
      "block3_conv3 (Conv2D)        (None, 56, 56, 256)       590080    \n",
      "_________________________________________________________________\n",
      "block3_pool (MaxPooling2D)   (None, 28, 28, 256)       0         \n",
      "_________________________________________________________________\n",
      "block4_conv1 (Conv2D)        (None, 28, 28, 512)       1180160   \n",
      "_________________________________________________________________\n",
      "block4_conv2 (Conv2D)        (None, 28, 28, 512)       2359808   \n",
      "_________________________________________________________________\n",
      "block4_conv3 (Conv2D)        (None, 28, 28, 512)       2359808   \n",
      "_________________________________________________________________\n",
      "block4_pool (MaxPooling2D)   (None, 14, 14, 512)       0         \n",
      "_________________________________________________________________\n",
      "block5_conv1 (Conv2D)        (None, 14, 14, 512)       2359808   \n",
      "_________________________________________________________________\n",
      "block5_conv2 (Conv2D)        (None, 14, 14, 512)       2359808   \n",
      "_________________________________________________________________\n",
      "block5_conv3 (Conv2D)        (None, 14, 14, 512)       2359808   \n",
      "=================================================================\n",
      "Total params: 14,714,688\n",
      "Trainable params: 0\n",
      "Non-trainable params: 14,714,688\n",
      "_________________________________________________________________\n"
     ]
    }
   ],
   "source": [
    "vgg16_model = VGG16(weights='imagenet')\n",
    "vgg16_model.summary()\n",
    "\n",
    "custom_model = Sequential()\n",
    "for layer in vgg16_model.layers:\n",
    "    custom_layer = layer\n",
    "    custom_layer.trainable = False\n",
    "    custom_model.add(custom_layer)\n",
    "    \n",
    "custom_model.layers.pop()\n",
    "custom_model.layers.pop()\n",
    "custom_model.layers.pop()\n",
    "custom_model.layers.pop()\n",
    "custom_model.layers.pop()\n",
    "\n",
    "custom_model.summary()\n",
    "\n"
   ]
  },
  {
   "cell_type": "code",
   "execution_count": 16,
   "metadata": {
    "scrolled": true
   },
   "outputs": [
    {
     "ename": "ValueError",
     "evalue": "Input 0 is incompatible with layer conv2d_transpose_5: expected ndim=4, found ndim=2",
     "traceback": [
      "\u001b[1;31m---------------------------------------------------------------------------\u001b[0m",
      "\u001b[1;31mValueError\u001b[0m                                Traceback (most recent call last)",
      "\u001b[1;32m<ipython-input-16-48a5e210b825>\u001b[0m in \u001b[0;36m<module>\u001b[1;34m()\u001b[0m\n\u001b[0;32m      1\u001b[0m \u001b[1;31m#\u001b[0m\u001b[1;33m\u001b[0m\u001b[1;33m\u001b[0m\u001b[0m\n\u001b[0;32m      2\u001b[0m \u001b[1;31m# # add a fully connected layer with 3 outputs, each for one category\u001b[0m\u001b[1;33m\u001b[0m\u001b[1;33m\u001b[0m\u001b[0m\n\u001b[1;32m----> 3\u001b[1;33m \u001b[0mcustom_model\u001b[0m\u001b[1;33m.\u001b[0m\u001b[0madd\u001b[0m\u001b[1;33m(\u001b[0m\u001b[0mConv2DTranspose\u001b[0m\u001b[1;33m(\u001b[0m\u001b[1;36m512\u001b[0m\u001b[1;33m,\u001b[0m \u001b[1;36m1\u001b[0m\u001b[1;33m,\u001b[0m \u001b[0minput_shape\u001b[0m\u001b[1;33m=\u001b[0m\u001b[1;33m(\u001b[0m\u001b[1;36m1\u001b[0m\u001b[1;33m,\u001b[0m \u001b[1;36m14\u001b[0m\u001b[1;33m,\u001b[0m \u001b[1;36m14\u001b[0m\u001b[1;33m,\u001b[0m \u001b[1;36m512\u001b[0m\u001b[1;33m)\u001b[0m\u001b[1;33m)\u001b[0m\u001b[1;33m)\u001b[0m\u001b[1;33m\u001b[0m\u001b[0m\n\u001b[0m\u001b[0;32m      4\u001b[0m \u001b[1;31m# custom_model.add(UpSampling2D(size=(2, 2), data_format=None, input))\u001b[0m\u001b[1;33m\u001b[0m\u001b[1;33m\u001b[0m\u001b[0m\n\u001b[0;32m      5\u001b[0m \u001b[1;31m# custom_model.add(Dense(3, activation=\"softmax\"))\u001b[0m\u001b[1;33m\u001b[0m\u001b[1;33m\u001b[0m\u001b[0m\n",
      "\u001b[1;32mD:\\ProgramData\\Anaconda3\\envs\\tf15\\lib\\site-packages\\keras\\models.py\u001b[0m in \u001b[0;36madd\u001b[1;34m(self, layer)\u001b[0m\n\u001b[0;32m    490\u001b[0m                           output_shapes=[self.outputs[0]._keras_shape])\n\u001b[0;32m    491\u001b[0m         \u001b[1;32melse\u001b[0m\u001b[1;33m:\u001b[0m\u001b[1;33m\u001b[0m\u001b[0m\n\u001b[1;32m--> 492\u001b[1;33m             \u001b[0moutput_tensor\u001b[0m \u001b[1;33m=\u001b[0m \u001b[0mlayer\u001b[0m\u001b[1;33m(\u001b[0m\u001b[0mself\u001b[0m\u001b[1;33m.\u001b[0m\u001b[0moutputs\u001b[0m\u001b[1;33m[\u001b[0m\u001b[1;36m0\u001b[0m\u001b[1;33m]\u001b[0m\u001b[1;33m)\u001b[0m\u001b[1;33m\u001b[0m\u001b[0m\n\u001b[0m\u001b[0;32m    493\u001b[0m             \u001b[1;32mif\u001b[0m \u001b[0misinstance\u001b[0m\u001b[1;33m(\u001b[0m\u001b[0moutput_tensor\u001b[0m\u001b[1;33m,\u001b[0m \u001b[0mlist\u001b[0m\u001b[1;33m)\u001b[0m\u001b[1;33m:\u001b[0m\u001b[1;33m\u001b[0m\u001b[0m\n\u001b[0;32m    494\u001b[0m                 raise TypeError('All layers in a Sequential model '\n",
      "\u001b[1;32mD:\\ProgramData\\Anaconda3\\envs\\tf15\\lib\\site-packages\\keras\\engine\\topology.py\u001b[0m in \u001b[0;36m__call__\u001b[1;34m(self, inputs, **kwargs)\u001b[0m\n\u001b[0;32m    573\u001b[0m                 \u001b[1;31m# Raise exceptions in case the input is not compatible\u001b[0m\u001b[1;33m\u001b[0m\u001b[1;33m\u001b[0m\u001b[0m\n\u001b[0;32m    574\u001b[0m                 \u001b[1;31m# with the input_spec specified in the layer constructor.\u001b[0m\u001b[1;33m\u001b[0m\u001b[1;33m\u001b[0m\u001b[0m\n\u001b[1;32m--> 575\u001b[1;33m                 \u001b[0mself\u001b[0m\u001b[1;33m.\u001b[0m\u001b[0massert_input_compatibility\u001b[0m\u001b[1;33m(\u001b[0m\u001b[0minputs\u001b[0m\u001b[1;33m)\u001b[0m\u001b[1;33m\u001b[0m\u001b[0m\n\u001b[0m\u001b[0;32m    576\u001b[0m \u001b[1;33m\u001b[0m\u001b[0m\n\u001b[0;32m    577\u001b[0m                 \u001b[1;31m# Collect input shapes to build layer.\u001b[0m\u001b[1;33m\u001b[0m\u001b[1;33m\u001b[0m\u001b[0m\n",
      "\u001b[1;32mD:\\ProgramData\\Anaconda3\\envs\\tf15\\lib\\site-packages\\keras\\engine\\topology.py\u001b[0m in \u001b[0;36massert_input_compatibility\u001b[1;34m(self, inputs)\u001b[0m\n\u001b[0;32m    472\u001b[0m                                      \u001b[0mself\u001b[0m\u001b[1;33m.\u001b[0m\u001b[0mname\u001b[0m \u001b[1;33m+\u001b[0m \u001b[1;34m': expected ndim='\u001b[0m \u001b[1;33m+\u001b[0m\u001b[1;33m\u001b[0m\u001b[0m\n\u001b[0;32m    473\u001b[0m                                      \u001b[0mstr\u001b[0m\u001b[1;33m(\u001b[0m\u001b[0mspec\u001b[0m\u001b[1;33m.\u001b[0m\u001b[0mndim\u001b[0m\u001b[1;33m)\u001b[0m \u001b[1;33m+\u001b[0m \u001b[1;34m', found ndim='\u001b[0m \u001b[1;33m+\u001b[0m\u001b[1;33m\u001b[0m\u001b[0m\n\u001b[1;32m--> 474\u001b[1;33m                                      str(K.ndim(x)))\n\u001b[0m\u001b[0;32m    475\u001b[0m             \u001b[1;32mif\u001b[0m \u001b[0mspec\u001b[0m\u001b[1;33m.\u001b[0m\u001b[0mmax_ndim\u001b[0m \u001b[1;32mis\u001b[0m \u001b[1;32mnot\u001b[0m \u001b[1;32mNone\u001b[0m\u001b[1;33m:\u001b[0m\u001b[1;33m\u001b[0m\u001b[0m\n\u001b[0;32m    476\u001b[0m                 \u001b[0mndim\u001b[0m \u001b[1;33m=\u001b[0m \u001b[0mK\u001b[0m\u001b[1;33m.\u001b[0m\u001b[0mndim\u001b[0m\u001b[1;33m(\u001b[0m\u001b[0mx\u001b[0m\u001b[1;33m)\u001b[0m\u001b[1;33m\u001b[0m\u001b[0m\n",
      "\u001b[1;31mValueError\u001b[0m: Input 0 is incompatible with layer conv2d_transpose_5: expected ndim=4, found ndim=2"
     ],
     "output_type": "error"
    }
   ],
   "source": [
    "# \n",
    "# # add a fully connected layer with 3 outputs, each for one category\n",
    "custom_model.add(Conv2DTranspose(512, 1))\n",
    "# custom_model.add(UpSampling2D(size=(2, 2), data_format=None, input))\n",
    "# custom_model.add(Dense(3, activation=\"softmax\"))\n",
    "# #custom_model.add(Conv2D(150, (3,3), activation=\"softmax\", padding=\"same\"))  #, (3, 3), activation=\"relu\", padding=\"same\")\n",
    "custom_model.summary()"
   ]
  },
  {
   "cell_type": "code",
   "execution_count": null,
   "metadata": {},
   "outputs": [],
   "source": []
  }
 ],
 "metadata": {
  "kernelspec": {
   "display_name": "Python 3",
   "language": "python",
   "name": "python3"
  },
  "language_info": {
   "codemirror_mode": {
    "name": "ipython",
    "version": 3
   },
   "file_extension": ".py",
   "mimetype": "text/x-python",
   "name": "python",
   "nbconvert_exporter": "python",
   "pygments_lexer": "ipython3",
   "version": "3.6.5"
  }
 },
 "nbformat": 4,
 "nbformat_minor": 2
}
